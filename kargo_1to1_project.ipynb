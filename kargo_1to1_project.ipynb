{
 "cells": [
  {
   "cell_type": "code",
   "execution_count": 16,
   "metadata": {},
   "outputs": [
    {
     "name": "stdout",
     "output_type": "stream",
     "text": [
      "false\n",
      "false\n",
      "true\n",
      "true\n"
     ]
    }
   ],
   "source": [
    "# check if there is a 1-to-1 mapping from string s1 to string s2\n",
    "def is1to1(s1, s2):\n",
    "    \n",
    "    # if strings do not have same length, some characters will go unmapped\n",
    "    if len(s1) != len(s2):\n",
    "        print(\"false\")\n",
    "        return\n",
    "\n",
    "    # if no duplicate characters exist in s1, then a 1-to-1 mapping is possible (no duplicate mappings)\n",
    "    \n",
    "    # remove duplicate characters from s1\n",
    "    temp = set(s1)\n",
    "    #  if length is the same, no duplicates were present\n",
    "    if len(temp) == len(s1):\n",
    "        print(\"true\")\n",
    "    else:\n",
    "        print(\"false\")\n",
    "\n",
    "is1to1(\"foo\",\"bar\")\n",
    "is1to1(\"bare\",\"foo\")\n",
    "is1to1(\"bar\",\"foo\")\n",
    "is1to1(\"abc\",\"def\")"
   ]
  },
  {
   "cell_type": "code",
   "execution_count": null,
   "metadata": {},
   "outputs": [],
   "source": []
  },
  {
   "cell_type": "code",
   "execution_count": null,
   "metadata": {},
   "outputs": [],
   "source": []
  }
 ],
 "metadata": {
  "kernelspec": {
   "display_name": "Python 3",
   "language": "python",
   "name": "python3"
  },
  "language_info": {
   "codemirror_mode": {
    "name": "ipython",
    "version": 3
   },
   "file_extension": ".py",
   "mimetype": "text/x-python",
   "name": "python",
   "nbconvert_exporter": "python",
   "pygments_lexer": "ipython3",
   "version": "3.7.4"
  }
 },
 "nbformat": 4,
 "nbformat_minor": 2
}
